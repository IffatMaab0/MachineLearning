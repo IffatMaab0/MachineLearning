{
 "cells": [
  {
   "cell_type": "markdown",
   "id": "0ad81eea",
   "metadata": {},
   "source": [
    "## Numpy array basics"
   ]
  },
  {
   "cell_type": "code",
   "execution_count": 1,
   "id": "db7f7eb4",
   "metadata": {},
   "outputs": [],
   "source": [
    "import numpy as np"
   ]
  },
  {
   "cell_type": "markdown",
   "id": "7e732849",
   "metadata": {},
   "source": []
  },
  {
   "cell_type": "markdown",
   "id": "96740865",
   "metadata": {},
   "source": [
    "## creating arrays"
   ]
  },
  {
   "cell_type": "code",
   "execution_count": 1,
   "id": "fde0f84e",
   "metadata": {},
   "outputs": [
    {
     "name": "stdout",
     "output_type": "stream",
     "text": [
      "Hello Maab!\n"
     ]
    }
   ],
   "source": [
    "print(\"Hello Maab!\")"
   ]
  },
  {
   "cell_type": "markdown",
   "id": "60b32d1f",
   "metadata": {},
   "source": []
  }
 ],
 "metadata": {
  "kernelspec": {
   "display_name": "env",
   "language": "python",
   "name": "python3"
  },
  "language_info": {
   "codemirror_mode": {
    "name": "ipython",
    "version": 3
   },
   "file_extension": ".py",
   "mimetype": "text/x-python",
   "name": "python",
   "nbconvert_exporter": "python",
   "pygments_lexer": "ipython3",
   "version": "3.13.4"
  }
 },
 "nbformat": 4,
 "nbformat_minor": 5
}
